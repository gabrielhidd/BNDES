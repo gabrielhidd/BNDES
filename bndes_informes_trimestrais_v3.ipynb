{
  "nbformat": 4,
  "nbformat_minor": 0,
  "metadata": {
    "colab": {
      "name": "bndes_informes_trimestrais_v3.ipynb",
      "provenance": [],
      "collapsed_sections": [],
      "include_colab_link": true
    },
    "kernelspec": {
      "name": "python3",
      "display_name": "Python 3"
    },
    "language_info": {
      "name": "python"
    }
  },
  "cells": [
    {
      "cell_type": "markdown",
      "metadata": {
        "id": "view-in-github",
        "colab_type": "text"
      },
      "source": [
        "<a href=\"https://colab.research.google.com/github/gabrielhidd/BNDES/blob/main/bndes_informes_trimestrais_v3.ipynb\" target=\"_parent\"><img src=\"https://colab.research.google.com/assets/colab-badge.svg\" alt=\"Open In Colab\"/></a>"
      ]
    },
    {
      "cell_type": "code",
      "metadata": {
        "id": "D02qIZttcSPU"
      },
      "source": [
        "import pandas as pd "
      ],
      "execution_count": 1,
      "outputs": []
    },
    {
      "cell_type": "markdown",
      "metadata": {
        "id": "1q_NbgKR5o-S"
      },
      "source": [
        "#1.0 - Coleta e limpeza dos dados da CVM"
      ]
    },
    {
      "cell_type": "code",
      "metadata": {
        "id": "g8lKh7d42sJB"
      },
      "source": [
        "deletar = ['QT_COTA', 'VL_PATRIM_COTA', 'NR_COTST', 'ENTID_INVEST', 'VL_CAP_COMPROM', 'VL_INVEST_FIP_COTA', 'NR_COTST_SUBSCR_PF', 'PR_COTA_SUBSCR_PF', 'NR_COTST_SUBSCR_PJ_NAO_FINANC', 'PR_COTA_SUBSCR_PJ_NAO_FINANC', \n",
        "           'NR_COTST_SUBSCR_BANCO', 'PR_COTA_SUBSCR_BANCO', 'NR_COTST_SUBSCR_CORRETORA_DISTRIB', 'PR_COTA_SUBSCR_CORRETORA_DISTRIB', 'NR_COTST_SUBSCR_PJ_FINANC', 'PR_COTA_SUBSCR_PJ_FINANC', 'NR_COTST_SUBSCR_INVNR', \n",
        "           'PR_COTA_SUBSCR_INVNR', 'NR_COTST_SUBSCR_EAPC', 'PR_COTA_SUBSCR_EAPC', 'NR_COTST_SUBSCR_EFPC', 'PR_COTA_SUBSCR_EFPC', 'NR_COTST_SUBSCR_RPPS', 'PR_COTA_SUBSCR_RPPS', 'NR_COTST_SUBSCR_SEGUR', 'PR_COTA_SUBSCR_SEGUR', \n",
        "           'NR_COTST_SUBSCR_CAPITALIZ', 'PR_COTA_SUBSCR_CAPITALIZ', 'NR_COTST_SUBSCR_FII', 'PR_COTA_SUBSCR_FII', 'NR_COTST_SUBSCR_FI', 'PR_COTA_SUBSCR_FI', 'NR_COTST_SUBSCR_DISTRIB', 'PR_COTA_SUBSCR_DISTRIB', \n",
        "           'NR_COTST_SUBSCR_OUTRO', 'PR_COTA_SUBSCR_OUTRO', 'CLASSE_COTA', 'NR_COTST_SUBSCR_CLASSE', 'QT_COTA_SUBSCR_CLASSE', 'QT_COTA_INTEGR_CLASSE', 'VL_QUOTA_CLASSE', 'DIREITO_POLIT_CLASSE', 'DIREITO_ECON_CLASSE', \n",
        "           'QT_COTA_INTEGR', 'VL_CAP_INTEGR']"
      ],
      "execution_count": 2,
      "outputs": []
    },
    {
      "cell_type": "markdown",
      "metadata": {
        "id": "KQcPflkxXCMR"
      },
      "source": [
        "##1.1 - CVM 2021"
      ]
    },
    {
      "cell_type": "code",
      "metadata": {
        "id": "oitHECTAAfdy"
      },
      "source": [
        "cvm_2021 = pd.read_csv('http://dados.cvm.gov.br/dados/FIP/DOC/INF_TRIMESTRAL/DADOS/inf_trimestral_fip_2021.csv', sep = \";\", encoding = 'ISO-8859-1')"
      ],
      "execution_count": 3,
      "outputs": []
    },
    {
      "cell_type": "code",
      "metadata": {
        "id": "w3PI2r9i4t_S"
      },
      "source": [
        "cvm_2021.drop(columns = deletar, axis = 1, inplace = True)"
      ],
      "execution_count": 4,
      "outputs": []
    },
    {
      "cell_type": "code",
      "metadata": {
        "id": "cvs3AKjHJRRD"
      },
      "source": [
        "cvm_2021['DT_COMPTC'] = pd.to_datetime(cvm_2021['DT_COMPTC'], yearfirst= True)"
      ],
      "execution_count": 5,
      "outputs": []
    },
    {
      "cell_type": "markdown",
      "metadata": {
        "id": "ufiYLgEmwNH0"
      },
      "source": [
        "##1.2 - CVM 2020"
      ]
    },
    {
      "cell_type": "code",
      "metadata": {
        "id": "D_i0_DuCwPSA"
      },
      "source": [
        "cvm_2020 = pd.read_csv('http://dados.cvm.gov.br/dados/FIP/DOC/INF_TRIMESTRAL/DADOS/inf_trimestral_fip_2020.csv', sep = \";\", encoding = 'ISO-8859-1')"
      ],
      "execution_count": 6,
      "outputs": []
    },
    {
      "cell_type": "code",
      "metadata": {
        "id": "fv-NZcpLwUJv"
      },
      "source": [
        "cvm_2020.drop(columns = deletar, axis = 1, inplace = True)"
      ],
      "execution_count": 7,
      "outputs": []
    },
    {
      "cell_type": "code",
      "metadata": {
        "id": "K7m2Ayf8wUMc"
      },
      "source": [
        "cvm_2020['DT_COMPTC'] = pd.to_datetime(cvm_2020['DT_COMPTC'], yearfirst= True)"
      ],
      "execution_count": 8,
      "outputs": []
    },
    {
      "cell_type": "markdown",
      "metadata": {
        "id": "iU-Xe1CdxoWb"
      },
      "source": [
        "##2.0 - Ajustando Datas"
      ]
    },
    {
      "cell_type": "markdown",
      "metadata": {
        "id": "w6ShKXggBqIz"
      },
      "source": [
        "###A) Colocando na Última Data Disponível"
      ]
    },
    {
      "cell_type": "code",
      "metadata": {
        "id": "rgKbUi6I-2yI"
      },
      "source": [
        "cvm_2021.sort_values(by = ['CNPJ_FUNDO','DT_COMPTC'], ascending = True, inplace = True)"
      ],
      "execution_count": 14,
      "outputs": []
    },
    {
      "cell_type": "code",
      "metadata": {
        "id": "dnpy7NnHwYeg"
      },
      "source": [
        "cvm_2020.sort_values(by = ['CNPJ_FUNDO','DT_COMPTC'], ascending = True, inplace = True)"
      ],
      "execution_count": 15,
      "outputs": []
    },
    {
      "cell_type": "markdown",
      "metadata": {
        "id": "oucpQE7D8SzC"
      },
      "source": [
        "###B) Criando uma Lista de Cada CNPJ Disponível"
      ]
    },
    {
      "cell_type": "code",
      "metadata": {
        "id": "ibGcYxIi3a9K"
      },
      "source": [
        "cnpjs_2021 = list(cvm_2021['CNPJ_FUNDO'].unique())"
      ],
      "execution_count": 16,
      "outputs": []
    },
    {
      "cell_type": "code",
      "metadata": {
        "id": "30XQXZcAweJu"
      },
      "source": [
        "cnpjs_2020 = list(cvm_2020['CNPJ_FUNDO'].unique())"
      ],
      "execution_count": 17,
      "outputs": []
    },
    {
      "cell_type": "markdown",
      "metadata": {
        "id": "T5u7KFqA8YvZ"
      },
      "source": [
        "###C) Criando uma Lista das Últimas Datas de Cada CNPJ Disponível"
      ]
    },
    {
      "cell_type": "code",
      "metadata": {
        "id": "1G-HlcSu4x2a"
      },
      "source": [
        "ultimas_datas_2021 = []\n",
        "\n",
        "for cnpj in cnpjs_2021:\n",
        "  ultimas_datas_2021.append(cvm_2021[cvm_2021['CNPJ_FUNDO'] == cnpj]['DT_COMPTC'].max())"
      ],
      "execution_count": 18,
      "outputs": []
    },
    {
      "cell_type": "code",
      "metadata": {
        "id": "DPDKdugxwhCm"
      },
      "source": [
        "ultimas_datas_2020 = []\n",
        "\n",
        "for cnpj in cnpjs_2020:\n",
        "  ultimas_datas_2020.append(cvm_2020[cvm_2020['CNPJ_FUNDO'] == cnpj]['DT_COMPTC'].max())"
      ],
      "execution_count": 19,
      "outputs": []
    },
    {
      "cell_type": "markdown",
      "metadata": {
        "id": "nAd_BEIY8lgb"
      },
      "source": [
        "###D) Criando um DataFrame"
      ]
    },
    {
      "cell_type": "code",
      "metadata": {
        "id": "_o3r9i6J63aB"
      },
      "source": [
        "df_ultimas_datas_2021 = pd.DataFrame({'CNPJ_FUNDO': cnpjs_2021, 'DT_COMPTC_ULTIMA': ultimas_datas_2021})"
      ],
      "execution_count": 20,
      "outputs": []
    },
    {
      "cell_type": "code",
      "metadata": {
        "id": "0EF6K6RkxENd"
      },
      "source": [
        "df_ultimas_datas_2020 = pd.DataFrame({'CNPJ_FUNDO': cnpjs_2020, 'DT_COMPTC_ULTIMA': ultimas_datas_2020})"
      ],
      "execution_count": 21,
      "outputs": []
    },
    {
      "cell_type": "markdown",
      "metadata": {
        "id": "Z7TiZQ5H8pNa"
      },
      "source": [
        "###E) Mesclando com a Novo Coluna"
      ]
    },
    {
      "cell_type": "code",
      "metadata": {
        "id": "Iv5byceo8v31"
      },
      "source": [
        "df_final_2021 = pd.merge(cvm_2021, df_ultimas_datas_2021, on = 'CNPJ_FUNDO', how = 'left')"
      ],
      "execution_count": 22,
      "outputs": []
    },
    {
      "cell_type": "code",
      "metadata": {
        "id": "NDMyPOatxE4p"
      },
      "source": [
        "df_final_2020 = pd.merge(cvm_2020, df_ultimas_datas_2020, on = 'CNPJ_FUNDO', how = 'left')"
      ],
      "execution_count": 23,
      "outputs": []
    },
    {
      "cell_type": "markdown",
      "metadata": {
        "id": "_qausopk9LnY"
      },
      "source": [
        "###F) Deixando Apenas as Últimas Datas Disponíveis"
      ]
    },
    {
      "cell_type": "code",
      "metadata": {
        "id": "ly6FvqLq9Ts5"
      },
      "source": [
        "deletar = []\n",
        "\n",
        "for i in range(df_final_2021.shape[0]):\n",
        "  if (df_final_2021.loc[i, 'DT_COMPTC'] < df_final_2021.loc[i, 'DT_COMPTC_ULTIMA']):\n",
        "    deletar.append(i)"
      ],
      "execution_count": 24,
      "outputs": []
    },
    {
      "cell_type": "code",
      "metadata": {
        "id": "iRzL9H71-KNB"
      },
      "source": [
        "df_final_2021.drop(deletar, axis=0, inplace = True)\n",
        "df_final_2021.index = range(df_final_2021.shape[0])"
      ],
      "execution_count": 25,
      "outputs": []
    },
    {
      "cell_type": "code",
      "metadata": {
        "id": "f2j6Ic3hLJLS"
      },
      "source": [
        "df_final_2021.drop_duplicates(subset = ['CNPJ_FUNDO', 'DT_COMPTC'], keep = 'first', inplace = True)\n",
        "df_final_2021.index = range(df_final_2021.shape[0])"
      ],
      "execution_count": 26,
      "outputs": []
    },
    {
      "cell_type": "code",
      "metadata": {
        "id": "JmLL41C-xR2z"
      },
      "source": [
        "deletar = []\n",
        "\n",
        "for i in range(df_final_2020.shape[0]):\n",
        "  if (df_final_2020.loc[i, 'DT_COMPTC'] < df_final_2020.loc[i, 'DT_COMPTC_ULTIMA']):\n",
        "    deletar.append(i)"
      ],
      "execution_count": 27,
      "outputs": []
    },
    {
      "cell_type": "code",
      "metadata": {
        "id": "fIsv7yvRxR2z"
      },
      "source": [
        "df_final_2020.drop(deletar, axis=0, inplace = True)\n",
        "df_final_2020.index = range(df_final_2020.shape[0])"
      ],
      "execution_count": 28,
      "outputs": []
    },
    {
      "cell_type": "code",
      "metadata": {
        "id": "LIwk5gFjxR20"
      },
      "source": [
        "df_final_2020.drop_duplicates(subset = ['CNPJ_FUNDO', 'DT_COMPTC'], keep = 'first', inplace = True)\n",
        "df_final_2020.index = range(df_final_2020.shape[0])"
      ],
      "execution_count": 29,
      "outputs": []
    },
    {
      "cell_type": "markdown",
      "metadata": {
        "id": "w3Dd365Px4dG"
      },
      "source": [
        "##3.0 - Concatenando as Bases Anuais"
      ]
    },
    {
      "cell_type": "code",
      "metadata": {
        "id": "PCfFHOUGx-W-"
      },
      "source": [
        "df_final = pd.concat([df_final_2021, df_final_2020])"
      ],
      "execution_count": 30,
      "outputs": []
    },
    {
      "cell_type": "code",
      "metadata": {
        "id": "9lATM7qcz3pw"
      },
      "source": [
        "df_final = df_final[['CNPJ_FUNDO', 'DENOM_SOCIAL', 'DT_COMPTC', 'VL_PATRIM_LIQ', 'PUBLICO_ALVO', 'QT_COTA_SUBSCR', 'VL_CAP_SUBSCR', 'NR_TOTAL_COTST_SUBSCR', 'PR_TOTAL_COTA_SUBSCR']]"
      ],
      "execution_count": 31,
      "outputs": []
    },
    {
      "cell_type": "markdown",
      "metadata": {
        "id": "6a7TeOzuydj4"
      },
      "source": [
        "###A) Colocando na Última Data Disponível"
      ]
    },
    {
      "cell_type": "code",
      "metadata": {
        "id": "KOjzrHuIydj5"
      },
      "source": [
        "df_final.sort_values(by = ['CNPJ_FUNDO','DT_COMPTC'], ascending = True, inplace = True)"
      ],
      "execution_count": 32,
      "outputs": []
    },
    {
      "cell_type": "markdown",
      "metadata": {
        "id": "Pmu0WWs-ydj5"
      },
      "source": [
        "###B) Criando uma Lista de Cada CNPJ Disponível"
      ]
    },
    {
      "cell_type": "code",
      "metadata": {
        "id": "WHkS5K9zydj5"
      },
      "source": [
        "cnpjs_df_final = list(cvm_2021['CNPJ_FUNDO'].unique())"
      ],
      "execution_count": 33,
      "outputs": []
    },
    {
      "cell_type": "markdown",
      "metadata": {
        "id": "PrhgviDhydj6"
      },
      "source": [
        "###C) Criando uma Lista das Últimas Datas de Cada CNPJ Disponível"
      ]
    },
    {
      "cell_type": "code",
      "metadata": {
        "id": "6vSDUtvBydj6"
      },
      "source": [
        "ultimas_datas = []\n",
        "\n",
        "for cnpj in cnpjs_df_final:\n",
        "  ultimas_datas.append(df_final[df_final['CNPJ_FUNDO'] == cnpj]['DT_COMPTC'].max())"
      ],
      "execution_count": 34,
      "outputs": []
    },
    {
      "cell_type": "markdown",
      "metadata": {
        "id": "RibzpgJlydj6"
      },
      "source": [
        "###D) Criando um DataFrame"
      ]
    },
    {
      "cell_type": "code",
      "metadata": {
        "id": "Lh_JilCQydj7"
      },
      "source": [
        "df_ultimas_datas = pd.DataFrame({'CNPJ_FUNDO': cnpjs_df_final, 'DT_COMPTC_ULTIMA': ultimas_datas})"
      ],
      "execution_count": 35,
      "outputs": []
    },
    {
      "cell_type": "markdown",
      "metadata": {
        "id": "UWcz_7z1ydj7"
      },
      "source": [
        "###E) Mesclando com a Novo Coluna"
      ]
    },
    {
      "cell_type": "code",
      "metadata": {
        "id": "5fJVJWDFydj7"
      },
      "source": [
        "df_final_total = pd.merge(df_final, df_ultimas_datas, on = 'CNPJ_FUNDO', how = 'left')"
      ],
      "execution_count": 36,
      "outputs": []
    },
    {
      "cell_type": "markdown",
      "metadata": {
        "id": "Fcaka3JEydj9"
      },
      "source": [
        "###F) Deixando Apenas as Últimas Datas Disponíveis"
      ]
    },
    {
      "cell_type": "code",
      "metadata": {
        "id": "Tha65HfFydj9"
      },
      "source": [
        "deletar = []\n",
        "\n",
        "for i in range(df_final_total.shape[0]):\n",
        "  if (df_final_total.loc[i, 'DT_COMPTC'] < df_final_total.loc[i, 'DT_COMPTC_ULTIMA']):\n",
        "    deletar.append(i)"
      ],
      "execution_count": 37,
      "outputs": []
    },
    {
      "cell_type": "code",
      "metadata": {
        "id": "-O3wiMEKydj9"
      },
      "source": [
        "df_final_total.drop(deletar, axis=0, inplace = True)\n",
        "df_final_total.index = range(df_final_total.shape[0])"
      ],
      "execution_count": 38,
      "outputs": []
    },
    {
      "cell_type": "code",
      "metadata": {
        "id": "pkjFi59fydj9"
      },
      "source": [
        "df_final_total.drop_duplicates(subset = ['CNPJ_FUNDO', 'DT_COMPTC'], keep = 'first', inplace = True)\n",
        "df_final_total.index = range(df_final_total.shape[0])"
      ],
      "execution_count": 39,
      "outputs": []
    },
    {
      "cell_type": "code",
      "metadata": {
        "id": "lFejt_sm0UIB"
      },
      "source": [
        "df_final.sort_values(by = ['CNPJ_FUNDO','DT_COMPTC'], ascending = True, inplace = True)"
      ],
      "execution_count": 40,
      "outputs": []
    },
    {
      "cell_type": "code",
      "metadata": {
        "id": "YbAqY0cFzmoa"
      },
      "source": [
        "df_final_total.sort_values(by = ['DT_COMPTC'], ascending = True, inplace = True)"
      ],
      "execution_count": 41,
      "outputs": []
    },
    {
      "cell_type": "markdown",
      "metadata": {
        "id": "TH8ZQh29bY6x"
      },
      "source": [
        "#5.0 - Salndo a Base em CSV"
      ]
    },
    {
      "cell_type": "code",
      "metadata": {
        "id": "Kr4-8n8eLg6p"
      },
      "source": [
        "bndes_informes_trimestrais = df_final_total[['CNPJ_FUNDO', 'DENOM_SOCIAL', 'DT_COMPTC', 'VL_PATRIM_LIQ', 'PUBLICO_ALVO', 'QT_COTA_SUBSCR', 'VL_CAP_SUBSCR', 'NR_TOTAL_COTST_SUBSCR', 'PR_TOTAL_COTA_SUBSCR']]"
      ],
      "execution_count": 42,
      "outputs": []
    },
    {
      "cell_type": "code",
      "metadata": {
        "id": "OhEaFdUqZppc"
      },
      "source": [
        "bndes_informes_trimestrais.to_csv('bndes_informes_trimestrais.csv', sep = ';', encoding = \"ISO-8859-1\",index = False)"
      ],
      "execution_count": 43,
      "outputs": []
    },
    {
      "cell_type": "code",
      "metadata": {
        "id": "ZK-BbT7vLuh0"
      },
      "source": [
        "bndes_informes_trimestrais.to_json('bndes_informes_trimestrais.json')"
      ],
      "execution_count": 44,
      "outputs": []
    }
  ]
}