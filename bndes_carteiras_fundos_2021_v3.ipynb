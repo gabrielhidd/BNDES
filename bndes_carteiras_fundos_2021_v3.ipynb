{
  "nbformat": 4,
  "nbformat_minor": 0,
  "metadata": {
    "colab": {
      "name": "bndes_carteiras_fundos_2021_v3.ipynb",
      "provenance": [],
      "collapsed_sections": [],
      "mount_file_id": "1FixV_tzn__DgGkwmxb9z_0j8CqW34re3",
      "authorship_tag": "ABX9TyOZM8m7SIgWXvYGDyBdyV5d",
      "include_colab_link": true
    },
    "kernelspec": {
      "name": "python3",
      "display_name": "Python 3"
    },
    "language_info": {
      "name": "python"
    }
  },
  "cells": [
    {
      "cell_type": "markdown",
      "metadata": {
        "id": "view-in-github",
        "colab_type": "text"
      },
      "source": [
        "<a href=\"https://colab.research.google.com/github/gabrielhidd/BNDES/blob/main/bndes_carteiras_fundos_2021_v3.ipynb\" target=\"_parent\"><img src=\"https://colab.research.google.com/assets/colab-badge.svg\" alt=\"Open In Colab\"/></a>"
      ]
    },
    {
      "cell_type": "code",
      "metadata": {
        "id": "GNswOrfaixRn"
      },
      "source": [
        "import pandas as pd"
      ],
      "execution_count": null,
      "outputs": []
    },
    {
      "cell_type": "markdown",
      "metadata": {
        "id": "kQO9ycIon-q7"
      },
      "source": [
        "#2.0 - Coleta e limpeza dos dados da CVM"
      ]
    },
    {
      "cell_type": "markdown",
      "metadata": {
        "id": "oINaalXPoEFk"
      },
      "source": [
        "##2.1 - Fundos da CVM Janeiro de 2021 "
      ]
    },
    {
      "cell_type": "code",
      "metadata": {
        "colab": {
          "base_uri": "https://localhost:8080/"
        },
        "id": "C7DtvCCyuLw6",
        "outputId": "c306d33b-f5c7-4dbb-c779-7c5ccb392f35"
      },
      "source": [
        "cda_fi_BLC_1_202101 = pd.read_csv('cda_fi_BLC_1_202101.csv', sep = ';', encoding = 'ISO-8859-1')\n",
        "cda_fi_BLC_2_202101 = pd.read_csv('cda_fi_BLC_2_202101.csv', sep = ';', encoding = 'ISO-8859-1')\n",
        "cda_fi_BLC_3_202101 = pd.read_csv('cda_fi_BLC_3_202101.csv', sep = ';', encoding = 'ISO-8859-1')\n",
        "cda_fi_BLC_4_202101 = pd.read_csv('cda_fi_BLC_4_202101.csv', sep = ';', encoding = 'ISO-8859-1')\n",
        "cda_fi_BLC_5_202101 = pd.read_csv('cda_fi_BLC_5_202101.csv', sep = ';', encoding = 'ISO-8859-1')\n",
        "cda_fi_BLC_6_202101 = pd.read_csv('cda_fi_BLC_6_202101.csv', sep = ';', encoding = 'ISO-8859-1')\n",
        "cda_fi_BLC_7_202101 = pd.read_csv('cda_fi_BLC_7_202101.csv', sep = ';', encoding = 'ISO-8859-1')\n",
        "cda_fi_BLC_8_202101 = pd.read_csv('cda_fi_BLC_8_202101.csv', sep = ';', encoding = 'ISO-8859-1')"
      ],
      "execution_count": null,
      "outputs": [
        {
          "output_type": "stream",
          "name": "stderr",
          "text": [
            "/usr/local/lib/python3.7/dist-packages/IPython/core/interactiveshell.py:2718: DtypeWarning: Columns (7) have mixed types.Specify dtype option on import or set low_memory=False.\n",
            "  interactivity=interactivity, compiler=compiler, result=result)\n"
          ]
        }
      ]
    },
    {
      "cell_type": "markdown",
      "metadata": {
        "id": "lHprBy7IidLQ"
      },
      "source": [
        "##2.2 - Fundos da CVM Fevereiro de 2021 "
      ]
    },
    {
      "cell_type": "code",
      "metadata": {
        "colab": {
          "base_uri": "https://localhost:8080/"
        },
        "id": "4exXi5xviZ5z",
        "outputId": "2f98e368-1e38-4207-97bb-fb248d04e4ba"
      },
      "source": [
        "cda_fi_BLC_1_202102 = pd.read_csv('cda_fi_BLC_1_202102.csv', sep = ';', encoding = 'ISO-8859-1')\n",
        "cda_fi_BLC_2_202102 = pd.read_csv('cda_fi_BLC_2_202102.csv', sep = ';', encoding = 'ISO-8859-1')\n",
        "cda_fi_BLC_3_202102 = pd.read_csv('cda_fi_BLC_3_202102.csv', sep = ';', encoding = 'ISO-8859-1')\n",
        "cda_fi_BLC_4_202102 = pd.read_csv('cda_fi_BLC_4_202102.csv', sep = ';', encoding = 'ISO-8859-1')\n",
        "cda_fi_BLC_5_202102 = pd.read_csv('cda_fi_BLC_5_202102.csv', sep = ';', encoding = 'ISO-8859-1')\n",
        "cda_fi_BLC_6_202102 = pd.read_csv('cda_fi_BLC_6_202102.csv', sep = ';', encoding = 'ISO-8859-1')\n",
        "cda_fi_BLC_7_202102 = pd.read_csv('cda_fi_BLC_7_202102.csv', sep = ';', encoding = 'ISO-8859-1')\n",
        "cda_fi_BLC_8_202102 = pd.read_csv('cda_fi_BLC_8_202102.csv', sep = ';', encoding = 'ISO-8859-1')"
      ],
      "execution_count": null,
      "outputs": [
        {
          "output_type": "stream",
          "name": "stderr",
          "text": [
            "/usr/local/lib/python3.7/dist-packages/IPython/core/interactiveshell.py:2718: DtypeWarning: Columns (7) have mixed types.Specify dtype option on import or set low_memory=False.\n",
            "  interactivity=interactivity, compiler=compiler, result=result)\n"
          ]
        }
      ]
    },
    {
      "cell_type": "markdown",
      "metadata": {
        "id": "QpVZFPwSilgI"
      },
      "source": [
        "##2.3 - Fundos da CVM Março de 2021 "
      ]
    },
    {
      "cell_type": "code",
      "metadata": {
        "colab": {
          "base_uri": "https://localhost:8080/"
        },
        "id": "FxPS9mIhiZ8I",
        "outputId": "62e93a39-9af9-46f5-8e71-376b93832086"
      },
      "source": [
        "cda_fi_BLC_1_202103 = pd.read_csv('cda_fi_BLC_1_202103.csv', sep = ';', encoding = 'ISO-8859-1')\n",
        "cda_fi_BLC_2_202103 = pd.read_csv('cda_fi_BLC_2_202103.csv', sep = ';', encoding = 'ISO-8859-1')\n",
        "cda_fi_BLC_3_202103 = pd.read_csv('cda_fi_BLC_3_202103.csv', sep = ';', encoding = 'ISO-8859-1')\n",
        "cda_fi_BLC_4_202103 = pd.read_csv('cda_fi_BLC_4_202103.csv', sep = ';', encoding = 'ISO-8859-1')\n",
        "cda_fi_BLC_5_202103 = pd.read_csv('cda_fi_BLC_5_202103.csv', sep = ';', encoding = 'ISO-8859-1')\n",
        "cda_fi_BLC_6_202103 = pd.read_csv('cda_fi_BLC_6_202103.csv', sep = ';', encoding = 'ISO-8859-1')\n",
        "cda_fi_BLC_7_202103 = pd.read_csv('cda_fi_BLC_7_202103.csv', sep = ';', encoding = 'ISO-8859-1')\n",
        "cda_fi_BLC_8_202103 = pd.read_csv('cda_fi_BLC_8_202103.csv', sep = ';', encoding = 'ISO-8859-1')"
      ],
      "execution_count": null,
      "outputs": [
        {
          "output_type": "stream",
          "name": "stderr",
          "text": [
            "/usr/local/lib/python3.7/dist-packages/IPython/core/interactiveshell.py:2718: DtypeWarning: Columns (7) have mixed types.Specify dtype option on import or set low_memory=False.\n",
            "  interactivity=interactivity, compiler=compiler, result=result)\n"
          ]
        }
      ]
    },
    {
      "cell_type": "markdown",
      "metadata": {
        "id": "ur28YLJ0iojC"
      },
      "source": [
        "##2.4 - Fundos da CVM Abril de 2021 "
      ]
    },
    {
      "cell_type": "code",
      "metadata": {
        "colab": {
          "base_uri": "https://localhost:8080/"
        },
        "id": "T5CU9feZiZ-_",
        "outputId": "7480d490-34d4-4acb-f9a6-04a67b73d2a1"
      },
      "source": [
        "cda_fi_BLC_1_202104 = pd.read_csv('cda_fi_BLC_1_202104.csv', sep = ';', encoding = 'ISO-8859-1')\n",
        "cda_fi_BLC_2_202104 = pd.read_csv('cda_fi_BLC_2_202104.csv', sep = ';', encoding = 'ISO-8859-1')\n",
        "cda_fi_BLC_3_202104 = pd.read_csv('cda_fi_BLC_3_202104.csv', sep = ';', encoding = 'ISO-8859-1')\n",
        "cda_fi_BLC_4_202104 = pd.read_csv('cda_fi_BLC_4_202104.csv', sep = ';', encoding = 'ISO-8859-1')\n",
        "cda_fi_BLC_5_202104 = pd.read_csv('cda_fi_BLC_5_202104.csv', sep = ';', encoding = 'ISO-8859-1')\n",
        "cda_fi_BLC_6_202104 = pd.read_csv('cda_fi_BLC_6_202104.csv', sep = ';', encoding = 'ISO-8859-1')\n",
        "cda_fi_BLC_7_202104 = pd.read_csv('cda_fi_BLC_7_202104.csv', sep = ';', encoding = 'ISO-8859-1')\n",
        "cda_fi_BLC_8_202104 = pd.read_csv('cda_fi_BLC_8_202104.csv', sep = ';', encoding = 'ISO-8859-1')"
      ],
      "execution_count": null,
      "outputs": [
        {
          "output_type": "stream",
          "name": "stderr",
          "text": [
            "/usr/local/lib/python3.7/dist-packages/IPython/core/interactiveshell.py:2718: DtypeWarning: Columns (7) have mixed types.Specify dtype option on import or set low_memory=False.\n",
            "  interactivity=interactivity, compiler=compiler, result=result)\n"
          ]
        }
      ]
    },
    {
      "cell_type": "markdown",
      "metadata": {
        "id": "CgwJw_nPiq8Y"
      },
      "source": [
        "##2.5 - Fundos da CVM Maio de 2021 "
      ]
    },
    {
      "cell_type": "code",
      "metadata": {
        "colab": {
          "base_uri": "https://localhost:8080/"
        },
        "id": "NHMjiWshibf9",
        "outputId": "8dc689fd-47a9-4d82-8a5c-223d533a6c0a"
      },
      "source": [
        "cda_fi_BLC_1_202105 = pd.read_csv('cda_fi_BLC_1_202105.csv', sep = ';', encoding = 'ISO-8859-1')\n",
        "cda_fi_BLC_2_202105 = pd.read_csv('cda_fi_BLC_2_202105.csv', sep = ';', encoding = 'ISO-8859-1')\n",
        "cda_fi_BLC_3_202105 = pd.read_csv('cda_fi_BLC_3_202105.csv', sep = ';', encoding = 'ISO-8859-1')\n",
        "cda_fi_BLC_4_202105 = pd.read_csv('cda_fi_BLC_4_202105.csv', sep = ';', encoding = 'ISO-8859-1')\n",
        "cda_fi_BLC_5_202105 = pd.read_csv('cda_fi_BLC_5_202105.csv', sep = ';', encoding = 'ISO-8859-1')\n",
        "cda_fi_BLC_6_202105 = pd.read_csv('cda_fi_BLC_6_202105.csv', sep = ';', encoding = 'ISO-8859-1')\n",
        "cda_fi_BLC_7_202105 = pd.read_csv('cda_fi_BLC_7_202105.csv', sep = ';', encoding = 'ISO-8859-1')\n",
        "cda_fi_BLC_8_202105 = pd.read_csv('cda_fi_BLC_8_202105.csv', sep = ';', encoding = 'ISO-8859-1')"
      ],
      "execution_count": null,
      "outputs": [
        {
          "output_type": "stream",
          "name": "stderr",
          "text": [
            "/usr/local/lib/python3.7/dist-packages/IPython/core/interactiveshell.py:2718: DtypeWarning: Columns (7) have mixed types.Specify dtype option on import or set low_memory=False.\n",
            "  interactivity=interactivity, compiler=compiler, result=result)\n"
          ]
        }
      ]
    },
    {
      "cell_type": "markdown",
      "metadata": {
        "id": "oCY8Sjk5isxf"
      },
      "source": [
        "##2.6 - Fundos da CVM Junho de 2021 "
      ]
    },
    {
      "cell_type": "code",
      "metadata": {
        "colab": {
          "base_uri": "https://localhost:8080/"
        },
        "id": "NQIFwKfJibtA",
        "outputId": "7aa22559-bb4b-414c-c5d6-b717d54fccc3"
      },
      "source": [
        "cda_fi_BLC_1_202106 = pd.read_csv('cda_fi_BLC_1_202106.csv', sep = ';', encoding = 'ISO-8859-1')\n",
        "cda_fi_BLC_2_202106 = pd.read_csv('cda_fi_BLC_2_202106.csv', sep = ';', encoding = 'ISO-8859-1')\n",
        "cda_fi_BLC_3_202106 = pd.read_csv('cda_fi_BLC_3_202106.csv', sep = ';', encoding = 'ISO-8859-1')\n",
        "cda_fi_BLC_4_202106 = pd.read_csv('cda_fi_BLC_4_202106.csv', sep = ';', encoding = 'ISO-8859-1')\n",
        "cda_fi_BLC_5_202106 = pd.read_csv('cda_fi_BLC_5_202106.csv', sep = ';', encoding = 'ISO-8859-1')\n",
        "cda_fi_BLC_6_202106 = pd.read_csv('cda_fi_BLC_6_202106.csv', sep = ';', encoding = 'ISO-8859-1')\n",
        "cda_fi_BLC_7_202106 = pd.read_csv('cda_fi_BLC_7_202106.csv', sep = ';', encoding = 'ISO-8859-1')\n",
        "cda_fi_BLC_8_202106 = pd.read_csv('cda_fi_BLC_8_202106.csv', sep = ';', encoding = 'ISO-8859-1')"
      ],
      "execution_count": null,
      "outputs": [
        {
          "output_type": "stream",
          "name": "stderr",
          "text": [
            "/usr/local/lib/python3.7/dist-packages/IPython/core/interactiveshell.py:2718: DtypeWarning: Columns (7) have mixed types.Specify dtype option on import or set low_memory=False.\n",
            "  interactivity=interactivity, compiler=compiler, result=result)\n"
          ]
        }
      ]
    },
    {
      "cell_type": "markdown",
      "metadata": {
        "id": "h3t5auCwi3Uv"
      },
      "source": [
        "#3.0 - Blocos de Ativos"
      ]
    },
    {
      "cell_type": "markdown",
      "metadata": {
        "id": "IHxEMoEgte2A"
      },
      "source": [
        "##3.1 - Bloco 1 - Títulos Públicos"
      ]
    },
    {
      "cell_type": "code",
      "metadata": {
        "id": "MPllKyU-lajn"
      },
      "source": [
        "df1_BLC_1 = pd.concat([cda_fi_BLC_1_202101, cda_fi_BLC_1_202102])\n",
        "df2_BLC_1 = pd.concat([df1_BLC_1, cda_fi_BLC_1_202103])\n",
        "df3_BLC_1 = pd.concat([df2_BLC_1, cda_fi_BLC_1_202104])\n",
        "df4_BLC_1 = pd.concat([df3_BLC_1, cda_fi_BLC_1_202105])\n",
        "df5_BLC_1_bndes = pd.concat([df4_BLC_1, cda_fi_BLC_1_202106])\n",
        "df5_BLC_1_bndes.index = range(df5_BLC_1_bndes.shape[0])"
      ],
      "execution_count": null,
      "outputs": []
    },
    {
      "cell_type": "code",
      "metadata": {
        "id": "dTjlorYA_08z"
      },
      "source": [
        "df5_BLC_1_bndes['DT_COMPTC'] = pd.to_datetime(df5_BLC_1_bndes['DT_COMPTC'], yearfirst= True)\n",
        "df5_BLC_1_bndes.index = range(df5_BLC_1_bndes.shape[0])"
      ],
      "execution_count": null,
      "outputs": []
    },
    {
      "cell_type": "code",
      "metadata": {
        "id": "yBFodocr_09L"
      },
      "source": [
        "df5_BLC_1_bndes['BLOCO'] = '1'\n",
        "df5_BLC_1_bndes['CNPJ_FUNDO_COTA'] = ''"
      ],
      "execution_count": null,
      "outputs": []
    },
    {
      "cell_type": "markdown",
      "metadata": {
        "id": "pbQBY_2KvmwV"
      },
      "source": [
        "##3.2 - Bloco 2 - Cotas de Fundos de Investimento"
      ]
    },
    {
      "cell_type": "code",
      "metadata": {
        "id": "bm4PK1fjuGZl"
      },
      "source": [
        "df1_BLC_2 = pd.concat([cda_fi_BLC_2_202101, cda_fi_BLC_2_202102])\n",
        "df2_BLC_2 = pd.concat([df1_BLC_2, cda_fi_BLC_2_202103])\n",
        "df3_BLC_2 = pd.concat([df2_BLC_2, cda_fi_BLC_2_202104])\n",
        "df4_BLC_2 = pd.concat([df3_BLC_2, cda_fi_BLC_2_202105])\n",
        "df5_BLC_2_bndes = pd.concat([df4_BLC_2, cda_fi_BLC_2_202106])\n",
        "df5_BLC_2_bndes.index = range(df5_BLC_2_bndes.shape[0])"
      ],
      "execution_count": null,
      "outputs": []
    },
    {
      "cell_type": "code",
      "metadata": {
        "id": "_fJNTw1KEcIr"
      },
      "source": [
        "df5_BLC_2_bndes['DT_COMPTC'] = pd.to_datetime(df5_BLC_2_bndes['DT_COMPTC'], yearfirst= True)\n",
        "df5_BLC_2_bndes.index = range(df5_BLC_2_bndes.shape[0])"
      ],
      "execution_count": null,
      "outputs": []
    },
    {
      "cell_type": "code",
      "metadata": {
        "id": "BHCu_sTfEcJD"
      },
      "source": [
        "df5_BLC_2_bndes['BLOCO'] = '2'"
      ],
      "execution_count": null,
      "outputs": []
    },
    {
      "cell_type": "markdown",
      "metadata": {
        "id": "b_vGJiiWvnV9"
      },
      "source": [
        "##3.3 - Bloco 3 - SWAP"
      ]
    },
    {
      "cell_type": "code",
      "metadata": {
        "id": "GB2V2GYcuJPR"
      },
      "source": [
        "df1_BLC_3 = pd.concat([cda_fi_BLC_3_202101, cda_fi_BLC_3_202102])\n",
        "df2_BLC_3 = pd.concat([df1_BLC_3, cda_fi_BLC_3_202103])\n",
        "df3_BLC_3 = pd.concat([df2_BLC_3, cda_fi_BLC_3_202104])\n",
        "df4_BLC_3 = pd.concat([df3_BLC_3, cda_fi_BLC_3_202105])\n",
        "df5_BLC_3_bndes = pd.concat([df4_BLC_3, cda_fi_BLC_3_202106])\n",
        "df5_BLC_3_bndes.index = range(df5_BLC_3_bndes.shape[0])"
      ],
      "execution_count": null,
      "outputs": []
    },
    {
      "cell_type": "code",
      "metadata": {
        "id": "bm9L2VjpFg3j"
      },
      "source": [
        "df5_BLC_3_bndes['DT_COMPTC'] = pd.to_datetime(df5_BLC_3_bndes['DT_COMPTC'], yearfirst= True)\n",
        "df5_BLC_3_bndes.index = range(df5_BLC_3_bndes.shape[0])"
      ],
      "execution_count": null,
      "outputs": []
    },
    {
      "cell_type": "code",
      "metadata": {
        "id": "JBH1HCHzxpLN"
      },
      "source": [
        "df5_BLC_3_bndes['BLOCO'] = '3'\n",
        "df5_BLC_3_bndes['CNPJ_FUNDO_COTA'] = ''"
      ],
      "execution_count": null,
      "outputs": []
    },
    {
      "cell_type": "markdown",
      "metadata": {
        "id": "lMJEpJu2vn9A"
      },
      "source": [
        "##3.4 - Bloco 4 - Demais Ativos Codificados"
      ]
    },
    {
      "cell_type": "code",
      "metadata": {
        "id": "GrKA9U6HuJ7N"
      },
      "source": [
        "df1_BLC_4 = pd.concat([cda_fi_BLC_4_202101, cda_fi_BLC_4_202102])\n",
        "df2_BLC_4 = pd.concat([df1_BLC_4, cda_fi_BLC_4_202103])\n",
        "df3_BLC_4 = pd.concat([df2_BLC_4, cda_fi_BLC_4_202104])\n",
        "df4_BLC_4 = pd.concat([df3_BLC_4, cda_fi_BLC_4_202105])\n",
        "df5_BLC_4_bndes = pd.concat([df4_BLC_4, cda_fi_BLC_4_202106])\n",
        "df5_BLC_4_bndes.index = range(df5_BLC_4_bndes.shape[0])"
      ],
      "execution_count": null,
      "outputs": []
    },
    {
      "cell_type": "code",
      "metadata": {
        "id": "9HTLpLfSvn9B"
      },
      "source": [
        "df5_BLC_4_bndes['DT_COMPTC'] = pd.to_datetime(df5_BLC_4_bndes['DT_COMPTC'], yearfirst= True)\n",
        "df5_BLC_4_bndes.index = range(df5_BLC_4_bndes.shape[0])"
      ],
      "execution_count": null,
      "outputs": []
    },
    {
      "cell_type": "code",
      "metadata": {
        "id": "UX9B_F_T8zUn"
      },
      "source": [
        "df5_BLC_4_bndes['BLOCO'] = '4'\n",
        "df5_BLC_4_bndes['CNPJ_FUNDO_COTA'] = ''"
      ],
      "execution_count": null,
      "outputs": []
    },
    {
      "cell_type": "markdown",
      "metadata": {
        "id": "Q1gL1mxtvowq"
      },
      "source": [
        "##3.5 - Bloco 5 - Depósitos a prazo e outros títulos de IF"
      ]
    },
    {
      "cell_type": "code",
      "metadata": {
        "id": "LSFaPzdSuKve"
      },
      "source": [
        "df1_BLC_5 = pd.concat([cda_fi_BLC_5_202101, cda_fi_BLC_5_202102])\n",
        "df2_BLC_5 = pd.concat([df1_BLC_5, cda_fi_BLC_5_202103])\n",
        "df3_BLC_5 = pd.concat([df2_BLC_5, cda_fi_BLC_5_202104])\n",
        "df4_BLC_5 = pd.concat([df3_BLC_5, cda_fi_BLC_5_202105])\n",
        "df5_BLC_5_bndes = pd.concat([df4_BLC_5, cda_fi_BLC_5_202106])\n",
        "df5_BLC_5_bndes.index = range(df5_BLC_5_bndes.shape[0])"
      ],
      "execution_count": null,
      "outputs": []
    },
    {
      "cell_type": "code",
      "metadata": {
        "id": "7x3ATXsNHttI"
      },
      "source": [
        "df5_BLC_5_bndes['DT_COMPTC'] = pd.to_datetime(df5_BLC_5_bndes['DT_COMPTC'], yearfirst= True)\n",
        "df5_BLC_5_bndes.index = range(df5_BLC_5_bndes.shape[0])"
      ],
      "execution_count": null,
      "outputs": []
    },
    {
      "cell_type": "code",
      "metadata": {
        "id": "SiU0T6QpHttL"
      },
      "source": [
        "df5_BLC_5_bndes['BLOCO'] = '5'\n",
        "df5_BLC_5_bndes['CNPJ_FUNDO_COTA'] = ''"
      ],
      "execution_count": null,
      "outputs": []
    },
    {
      "cell_type": "markdown",
      "metadata": {
        "id": "8-5Nr6FKvoTj"
      },
      "source": [
        "##3.6 - Bloco 6 - Títulos do agronegócio e de crédito privado"
      ]
    },
    {
      "cell_type": "code",
      "metadata": {
        "id": "VJqNvDZ8uLfG"
      },
      "source": [
        "df1_BLC_6 = pd.concat([cda_fi_BLC_6_202101, cda_fi_BLC_6_202102])\n",
        "df2_BLC_6 = pd.concat([df1_BLC_6, cda_fi_BLC_6_202103])\n",
        "df3_BLC_6 = pd.concat([df2_BLC_6, cda_fi_BLC_6_202104])\n",
        "df4_BLC_6 = pd.concat([df3_BLC_6, cda_fi_BLC_6_202105])\n",
        "df5_BLC_6_bndes = pd.concat([df4_BLC_6, cda_fi_BLC_6_202106])\n",
        "df5_BLC_6_bndes.index = range(df5_BLC_6_bndes.shape[0])"
      ],
      "execution_count": null,
      "outputs": []
    },
    {
      "cell_type": "code",
      "metadata": {
        "id": "V8SFlaZtJQcR"
      },
      "source": [
        "df5_BLC_6_bndes['DT_COMPTC'] = pd.to_datetime(df5_BLC_6_bndes['DT_COMPTC'], yearfirst= True)\n",
        "df5_BLC_6_bndes.index = range(df5_BLC_6_bndes.shape[0])"
      ],
      "execution_count": null,
      "outputs": []
    },
    {
      "cell_type": "code",
      "metadata": {
        "id": "xeSs1fjMJQcU"
      },
      "source": [
        "df5_BLC_6_bndes['BLOCO'] = '6'\n",
        "df5_BLC_6_bndes['CNPJ_FUNDO_COTA'] = ''"
      ],
      "execution_count": null,
      "outputs": []
    },
    {
      "cell_type": "markdown",
      "metadata": {
        "id": "yqUKH8CdvpKW"
      },
      "source": [
        "##3.7 - Bloco 7 - Investimento no exterior"
      ]
    },
    {
      "cell_type": "code",
      "metadata": {
        "id": "lnt6sEF8uMlO"
      },
      "source": [
        "df1_BLC_7 = pd.concat([cda_fi_BLC_7_202101, cda_fi_BLC_7_202102])\n",
        "df2_BLC_7 = pd.concat([df1_BLC_7, cda_fi_BLC_7_202103])\n",
        "df3_BLC_7 = pd.concat([df2_BLC_7, cda_fi_BLC_7_202104])\n",
        "df4_BLC_7 = pd.concat([df3_BLC_7, cda_fi_BLC_7_202105])\n",
        "df5_BLC_7_bndes = pd.concat([df4_BLC_7, cda_fi_BLC_7_202106])\n",
        "df5_BLC_7_bndes.index = range(df5_BLC_7_bndes.shape[0])"
      ],
      "execution_count": null,
      "outputs": []
    },
    {
      "cell_type": "code",
      "metadata": {
        "id": "ZnJWFrBkTr-H"
      },
      "source": [
        "df5_BLC_7_bndes['DT_COMPTC'] = pd.to_datetime(df5_BLC_7_bndes['DT_COMPTC'], yearfirst= True)\n",
        "df5_BLC_7_bndes.index = range(df5_BLC_7_bndes.shape[0])"
      ],
      "execution_count": null,
      "outputs": []
    },
    {
      "cell_type": "code",
      "metadata": {
        "id": "79jZfcjYTr-R"
      },
      "source": [
        "df5_BLC_7_bndes['BLOCO'] = '7'\n",
        "df5_BLC_7_bndes['CNPJ_FUNDO_COTA'] = ''"
      ],
      "execution_count": null,
      "outputs": []
    },
    {
      "cell_type": "markdown",
      "metadata": {
        "id": "4HGuryOhvpiN"
      },
      "source": [
        "##3.8 - Bloco 8 - Demais Ativos Não Codificados"
      ]
    },
    {
      "cell_type": "code",
      "metadata": {
        "id": "Yv8HfKzwuNYh"
      },
      "source": [
        "df1_BLC_8 = pd.concat([cda_fi_BLC_8_202101, cda_fi_BLC_8_202102])\n",
        "df2_BLC_8 = pd.concat([df1_BLC_8, cda_fi_BLC_8_202103])\n",
        "df3_BLC_8 = pd.concat([df2_BLC_8, cda_fi_BLC_8_202104])\n",
        "df4_BLC_8 = pd.concat([df3_BLC_8, cda_fi_BLC_8_202105])\n",
        "df5_BLC_8_bndes = pd.concat([df4_BLC_8, cda_fi_BLC_8_202106])\n",
        "df5_BLC_8_bndes.index = range(df5_BLC_8_bndes.shape[0])"
      ],
      "execution_count": null,
      "outputs": []
    },
    {
      "cell_type": "code",
      "metadata": {
        "id": "yKInO_r-UTkI"
      },
      "source": [
        "df5_BLC_8_bndes['DT_COMPTC'] = pd.to_datetime(df5_BLC_8_bndes['DT_COMPTC'], yearfirst= True)\n",
        "df5_BLC_8_bndes.index = range(df5_BLC_8_bndes.shape[0])"
      ],
      "execution_count": null,
      "outputs": []
    },
    {
      "cell_type": "code",
      "metadata": {
        "id": "7JbQhwvDUTkJ"
      },
      "source": [
        "df5_BLC_8_bndes['BLOCO'] = '8'\n",
        "df5_BLC_8_bndes['CNPJ_FUNDO_COTA'] = ''"
      ],
      "execution_count": null,
      "outputs": []
    },
    {
      "cell_type": "markdown",
      "metadata": {
        "id": "6TX3gEuE1C-1"
      },
      "source": [
        "#4.0 - Juntando as Bases"
      ]
    },
    {
      "cell_type": "code",
      "metadata": {
        "id": "uTlMLtstNXQA"
      },
      "source": [
        "df5_BLC_1_bndes.rename(columns = {'TP_TITPUB': 'NOME_ATIVO'}, inplace = True)\n",
        "df5_BLC_2_bndes.rename(columns = {'NM_FUNDO_COTA': 'NOME_ATIVO'}, inplace = True)\n",
        "df5_BLC_3_bndes.rename(columns = {'DS_SWAP': 'NOME_ATIVO'}, inplace = True)\n",
        "df5_BLC_4_bndes.rename(columns = {'DS_ATIVO': 'NOME_ATIVO'}, inplace = True)\n",
        "df5_BLC_5_bndes.rename(columns = {'EMISSOR': 'NOME_ATIVO'}, inplace = True)\n",
        "df5_BLC_6_bndes.rename(columns = {'EMISSOR': 'NOME_ATIVO'}, inplace = True)\n",
        "df5_BLC_7_bndes.rename(columns = {'EMISSOR': 'NOME_ATIVO'}, inplace = True)\n",
        "df5_BLC_8_bndes.rename(columns = {'EMISSOR': 'NOME_ATIVO'}, inplace = True)"
      ],
      "execution_count": null,
      "outputs": []
    },
    {
      "cell_type": "markdown",
      "metadata": {
        "id": "Fr_B-ARWBfTU"
      },
      "source": [
        "##4.1 - Concatenando as Bases"
      ]
    },
    {
      "cell_type": "code",
      "metadata": {
        "id": "e4sD_r7Y7ORs"
      },
      "source": [
        "cda_fi_BLC_1_2021_rev = df5_BLC_1_bndes[['TP_FUNDO', 'CNPJ_FUNDO', 'DT_COMPTC', 'TP_APLIC', 'TP_ATIVO', 'VL_MERC_POS_FINAL', 'CNPJ_FUNDO_COTA', 'NOME_ATIVO', 'BLOCO']]\n",
        "cda_fi_BLC_2_2021_rev = df5_BLC_2_bndes[['TP_FUNDO', 'CNPJ_FUNDO', 'DT_COMPTC', 'TP_APLIC', 'TP_ATIVO', 'VL_MERC_POS_FINAL', 'CNPJ_FUNDO_COTA', 'NOME_ATIVO', 'BLOCO']]\n",
        "cda_fi_BLC_3_2021_rev = df5_BLC_3_bndes[['TP_FUNDO', 'CNPJ_FUNDO', 'DT_COMPTC', 'TP_APLIC', 'TP_ATIVO', 'VL_MERC_POS_FINAL', 'CNPJ_FUNDO_COTA', 'NOME_ATIVO', 'BLOCO']]\n",
        "cda_fi_BLC_4_2021_rev = df5_BLC_4_bndes[['TP_FUNDO', 'CNPJ_FUNDO', 'DT_COMPTC', 'TP_APLIC', 'TP_ATIVO', 'VL_MERC_POS_FINAL', 'CNPJ_FUNDO_COTA', 'NOME_ATIVO', 'BLOCO']]\n",
        "cda_fi_BLC_5_2021_rev = df5_BLC_5_bndes[['TP_FUNDO', 'CNPJ_FUNDO', 'DT_COMPTC', 'TP_APLIC', 'TP_ATIVO', 'VL_MERC_POS_FINAL', 'CNPJ_FUNDO_COTA', 'NOME_ATIVO', 'BLOCO']]\n",
        "cda_fi_BLC_6_2021_rev = df5_BLC_6_bndes[['TP_FUNDO', 'CNPJ_FUNDO', 'DT_COMPTC', 'TP_APLIC', 'TP_ATIVO', 'VL_MERC_POS_FINAL', 'CNPJ_FUNDO_COTA', 'NOME_ATIVO', 'BLOCO']]\n",
        "cda_fi_BLC_7_2021_rev = df5_BLC_7_bndes[['TP_FUNDO', 'CNPJ_FUNDO', 'DT_COMPTC', 'TP_APLIC', 'TP_ATIVO', 'VL_MERC_POS_FINAL', 'CNPJ_FUNDO_COTA', 'NOME_ATIVO', 'BLOCO']]\n",
        "cda_fi_BLC_8_2021_rev = df5_BLC_8_bndes[['TP_FUNDO', 'CNPJ_FUNDO', 'DT_COMPTC', 'TP_APLIC', 'TP_ATIVO', 'VL_MERC_POS_FINAL', 'CNPJ_FUNDO_COTA', 'NOME_ATIVO', 'BLOCO']]"
      ],
      "execution_count": null,
      "outputs": []
    },
    {
      "cell_type": "code",
      "metadata": {
        "id": "A6hA_ki1vmQi"
      },
      "source": [
        "df1_2021 = pd.concat([cda_fi_BLC_1_2021_rev, cda_fi_BLC_2_2021_rev], axis = 0)\n",
        "df2_2021 = pd.concat([df1_2021, cda_fi_BLC_3_2021_rev], axis = 0)\n",
        "df3_2021 = pd.concat([df2_2021, cda_fi_BLC_4_2021_rev], axis = 0)\n",
        "df4_2021 = pd.concat([df3_2021, cda_fi_BLC_5_2021_rev], axis = 0)\n",
        "df5_2021 = pd.concat([df4_2021, cda_fi_BLC_6_2021_rev], axis = 0)\n",
        "df6_2021 = pd.concat([df5_2021, cda_fi_BLC_7_2021_rev], axis = 0)\n",
        "df7_2021 = pd.concat([df6_2021, cda_fi_BLC_8_2021_rev], axis = 0)\n",
        "df7_2021.index = range(df7_2021.shape[0])"
      ],
      "execution_count": null,
      "outputs": []
    },
    {
      "cell_type": "markdown",
      "metadata": {
        "id": "w6ShKXggBqIz"
      },
      "source": [
        "##4.2 - Colocando na Última Data Disponível"
      ]
    },
    {
      "cell_type": "code",
      "metadata": {
        "id": "rgKbUi6I-2yI"
      },
      "source": [
        "df7_2021.sort_values(by = ['CNPJ_FUNDO','DT_COMPTC', 'TP_ATIVO'], ascending = True, inplace = True)\n",
        "df7_2021.index = range(df7_2021.shape[0])"
      ],
      "execution_count": null,
      "outputs": []
    },
    {
      "cell_type": "markdown",
      "metadata": {
        "id": "Sm7TOq5tEC1U"
      },
      "source": [
        "###A) Tirando os ZEROS"
      ]
    },
    {
      "cell_type": "code",
      "metadata": {
        "id": "yMz4t44aEGvA"
      },
      "source": [
        "df7_2021 = df7_2021[df7_2021['VL_MERC_POS_FINAL'] > 0]\n",
        "df7_2021.index = range(df7_2021.shape[0])"
      ],
      "execution_count": null,
      "outputs": []
    },
    {
      "cell_type": "markdown",
      "metadata": {
        "id": "oucpQE7D8SzC"
      },
      "source": [
        "###B) Criando uma Lista de Cada CNPJ Disponível"
      ]
    },
    {
      "cell_type": "code",
      "metadata": {
        "id": "ibGcYxIi3a9K"
      },
      "source": [
        "cnpjs_2021 = list(df7_2021['CNPJ_FUNDO'].unique())"
      ],
      "execution_count": null,
      "outputs": []
    },
    {
      "cell_type": "markdown",
      "metadata": {
        "id": "T5u7KFqA8YvZ"
      },
      "source": [
        "###C) Criando uma Lista das Últimas Datas de Cada CNPJ Disponível"
      ]
    },
    {
      "cell_type": "code",
      "metadata": {
        "id": "7Rqfz-lkBk3n"
      },
      "source": [
        "#Demora 1h20"
      ],
      "execution_count": null,
      "outputs": []
    },
    {
      "cell_type": "code",
      "metadata": {
        "id": "1G-HlcSu4x2a"
      },
      "source": [
        "ultimas_datas = []\n",
        "\n",
        "for cnpj in cnpjs_2021:\n",
        "  ultimas_datas.append(df7_2021[df7_2021['CNPJ_FUNDO'] == cnpj]['DT_COMPTC'].max())"
      ],
      "execution_count": null,
      "outputs": []
    },
    {
      "cell_type": "markdown",
      "metadata": {
        "id": "nAd_BEIY8lgb"
      },
      "source": [
        "###D) Criando um DataFrame"
      ]
    },
    {
      "cell_type": "code",
      "metadata": {
        "id": "_o3r9i6J63aB"
      },
      "source": [
        "df_ultimas_datas = pd.DataFrame({'CNPJ_FUNDO': cnpjs_2021, 'DT_COMPTC_ULTIMA': ultimas_datas})"
      ],
      "execution_count": null,
      "outputs": []
    },
    {
      "cell_type": "markdown",
      "metadata": {
        "id": "Z7TiZQ5H8pNa"
      },
      "source": [
        "###E) Mesclando com a Novo Coluna"
      ]
    },
    {
      "cell_type": "code",
      "metadata": {
        "id": "Iv5byceo8v31"
      },
      "source": [
        "df_final = pd.merge(df7_2021, df_ultimas_datas, on = 'CNPJ_FUNDO', how = 'left')"
      ],
      "execution_count": null,
      "outputs": []
    },
    {
      "cell_type": "markdown",
      "metadata": {
        "id": "_qausopk9LnY"
      },
      "source": [
        "###F) Deixando Apenas as Últimas Datas Disponíveis"
      ]
    },
    {
      "cell_type": "code",
      "metadata": {
        "id": "17Q_uXhaBf2u"
      },
      "source": [
        "#Demora 20 min"
      ],
      "execution_count": null,
      "outputs": []
    },
    {
      "cell_type": "code",
      "metadata": {
        "id": "ly6FvqLq9Ts5"
      },
      "source": [
        "deletar = []\n",
        "\n",
        "for i in range(df_final.shape[0]):\n",
        "  if (df_final.loc[i, 'DT_COMPTC'] < df_final.loc[i, 'DT_COMPTC_ULTIMA']):\n",
        "    deletar.append(i)"
      ],
      "execution_count": null,
      "outputs": []
    },
    {
      "cell_type": "code",
      "metadata": {
        "id": "iRzL9H71-KNB"
      },
      "source": [
        "df_final.drop(deletar, axis=0, inplace = True)\n",
        "df_final.index = range(df_final.shape[0])"
      ],
      "execution_count": null,
      "outputs": []
    },
    {
      "cell_type": "markdown",
      "metadata": {
        "id": "7uH4-28o_Kw4"
      },
      "source": [
        "###G) Salvando"
      ]
    },
    {
      "cell_type": "code",
      "metadata": {
        "id": "hjsfSB5VBVyp"
      },
      "source": [
        "#salvando Tudo"
      ],
      "execution_count": null,
      "outputs": []
    },
    {
      "cell_type": "code",
      "metadata": {
        "id": "6THf9RvaByO5"
      },
      "source": [
        "df_final.to_json('df_final_bndes_cda.json')"
      ],
      "execution_count": null,
      "outputs": []
    },
    {
      "cell_type": "code",
      "metadata": {
        "id": "QOoVHK5PByO6"
      },
      "source": [
        "df_final.to_csv('df_final_bndes_cda.csv', sep = ';', encoding = \"ISO-8859-1\",index = False)"
      ],
      "execution_count": null,
      "outputs": []
    },
    {
      "cell_type": "code",
      "metadata": {
        "id": "2veDCVagBaSO"
      },
      "source": [
        "#Salvando uma parte"
      ],
      "execution_count": null,
      "outputs": []
    },
    {
      "cell_type": "code",
      "metadata": {
        "id": "z0jy621U-W_K"
      },
      "source": [
        "df_final_bndes = df_final[['TP_FUNDO', 'CNPJ_FUNDO', 'DT_COMPTC', 'TP_APLIC', 'TP_ATIVO', 'VL_MERC_POS_FINAL', 'CNPJ_FUNDO_COTA', 'NOME_ATIVO', 'BLOCO']]"
      ],
      "execution_count": null,
      "outputs": []
    },
    {
      "cell_type": "code",
      "metadata": {
        "id": "eR2GundXB5FU"
      },
      "source": [
        "df_final_bndes.to_json('df_final_bndes_cda.json')"
      ],
      "execution_count": null,
      "outputs": []
    },
    {
      "cell_type": "code",
      "metadata": {
        "id": "WjgiSY0vU4Uo"
      },
      "source": [
        "df_final_bndes.to_csv('df_final_bndes_cda.csv', sep = ';', encoding = \"ISO-8859-1\",index = False)"
      ],
      "execution_count": null,
      "outputs": []
    },
    {
      "cell_type": "code",
      "metadata": {
        "id": "WjCSwRWVR-HF"
      },
      "source": [
        "from google.colab import drive"
      ],
      "execution_count": null,
      "outputs": []
    },
    {
      "cell_type": "code",
      "metadata": {
        "colab": {
          "base_uri": "https://localhost:8080/"
        },
        "id": "DeAyJWeVR-dH",
        "outputId": "d22616c5-8b11-49fe-a283-3b07a55708e2"
      },
      "source": [
        "drive.mount('/drive')"
      ],
      "execution_count": null,
      "outputs": [
        {
          "output_type": "stream",
          "name": "stdout",
          "text": [
            "Mounted at /drive\n"
          ]
        }
      ]
    },
    {
      "cell_type": "code",
      "metadata": {
        "id": "dN1wZrGhCG-z"
      },
      "source": [
        "df_final_bndes.to_csv('/drive/My Drive/Deep BNDES/df_final_bndes_cda.csv', encoding = \"ISO-8859-1\",index = False)"
      ],
      "execution_count": null,
      "outputs": []
    },
    {
      "cell_type": "code",
      "metadata": {
        "id": "ibkwf9phSObe"
      },
      "source": [
        "df_final_bndes.to_json('/drive/My Drive/Deep BNDES/df_final_bndes_cda.json')"
      ],
      "execution_count": null,
      "outputs": []
    }
  ]
}